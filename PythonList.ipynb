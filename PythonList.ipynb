{
  "nbformat": 4,
  "nbformat_minor": 0,
  "metadata": {
    "colab": {
      "provenance": [],
      "authorship_tag": "ABX9TyMApLrV1kSIp1ok3HgT7f9y",
      "include_colab_link": true
    },
    "kernelspec": {
      "name": "python3",
      "display_name": "Python 3"
    },
    "language_info": {
      "name": "python"
    }
  },
  "cells": [
    {
      "cell_type": "markdown",
      "metadata": {
        "id": "view-in-github",
        "colab_type": "text"
      },
      "source": [
        "<a href=\"https://colab.research.google.com/github/ramki92/PythonTraining/blob/main/PythonList.ipynb\" target=\"_parent\"><img src=\"https://colab.research.google.com/assets/colab-badge.svg\" alt=\"Open In Colab\"/></a>"
      ]
    },
    {
      "cell_type": "code",
      "execution_count": null,
      "metadata": {
        "colab": {
          "base_uri": "https://localhost:8080/"
        },
        "id": "4TER9ArmjRyv",
        "outputId": "5dc8d2fd-a37a-4673-d78b-f0876ac912a7"
      },
      "outputs": [
        {
          "output_type": "stream",
          "name": "stdout",
          "text": [
            "[10, 20, 30, 40, 50]\n",
            "20\n"
          ]
        }
      ],
      "source": [
        "mylist=[10,20,30,40,50]\n",
        "\n",
        "print(mylist)\n",
        "print(mylist[1])"
      ]
    },
    {
      "cell_type": "code",
      "source": [
        "header=[\"Name\",\"Mobile\",\"Age\",\"Address\",\"Company\"]\n",
        "print(header)\n",
        "header.append(\"DOB\")\n",
        "print(header)"
      ],
      "metadata": {
        "colab": {
          "base_uri": "https://localhost:8080/"
        },
        "id": "-BO6L6H_XxqX",
        "outputId": "d5869848-321c-45a6-cbbb-6c74e95450a3"
      },
      "execution_count": null,
      "outputs": [
        {
          "output_type": "stream",
          "name": "stdout",
          "text": [
            "['Name', 'Mobile', 'Age', 'Address', 'Company']\n",
            "['Name', 'Mobile', 'Age', 'Address', 'Company', 'DOB']\n"
          ]
        }
      ]
    },
    {
      "cell_type": "code",
      "source": [
        "one_more=[\"Status\",\"Account\",\"Card Details\"]\n",
        "header.extend(one_more)\n",
        "print(header)"
      ],
      "metadata": {
        "colab": {
          "base_uri": "https://localhost:8080/"
        },
        "id": "_svvbytxYGle",
        "outputId": "ab3d8cd2-29ea-4b97-f0ac-d2a3a265b51f"
      },
      "execution_count": null,
      "outputs": [
        {
          "output_type": "stream",
          "name": "stdout",
          "text": [
            "['Name', 'Mobile', 'Age', 'Address', 'Company', 'DOB', 'Status', 'Account', 'Card Details']\n"
          ]
        }
      ]
    },
    {
      "cell_type": "code",
      "source": [],
      "metadata": {
        "id": "m7K6TNdi8YNT"
      },
      "execution_count": null,
      "outputs": []
    },
    {
      "cell_type": "code",
      "source": [
        "two_more=[\"Order ID\",\"Order Date\"]\n",
        "header.extend(two_more)\n",
        "print(header)\n",
        "len(header)"
      ],
      "metadata": {
        "colab": {
          "base_uri": "https://localhost:8080/"
        },
        "id": "sz81YZSd5mm1",
        "outputId": "9e3d17a3-28e5-49b3-881e-947cf5e2badb"
      },
      "execution_count": null,
      "outputs": [
        {
          "output_type": "stream",
          "name": "stdout",
          "text": [
            "['Name', 'Mobile', 'Age', 'Address', 'Company', 'DOB', 'Status', 'Account', 'Card Details', 'Order ID', 'Order Date', 'Order ID', 'Order Date']\n"
          ]
        },
        {
          "output_type": "execute_result",
          "data": {
            "text/plain": [
              "13"
            ]
          },
          "metadata": {},
          "execution_count": 6
        }
      ]
    },
    {
      "cell_type": "code",
      "source": [
        "len(header)"
      ],
      "metadata": {
        "colab": {
          "base_uri": "https://localhost:8080/"
        },
        "id": "VhPH3iPL76dX",
        "outputId": "51d8b467-39f0-4147-fd63-24c322f6e1bf"
      },
      "execution_count": null,
      "outputs": [
        {
          "output_type": "execute_result",
          "data": {
            "text/plain": [
              "13"
            ]
          },
          "metadata": {},
          "execution_count": 7
        }
      ]
    },
    {
      "cell_type": "code",
      "source": [
        "Variable={\"Product\":\"Soap\",\n",
        "           \"Price\":\"30\",\n",
        "           \"Discount\":\"40%\"}\n",
        "len(Variable)"
      ],
      "metadata": {
        "colab": {
          "base_uri": "https://localhost:8080/"
        },
        "id": "3hcgYhnT6aGs",
        "outputId": "cbf77600-63b3-48e7-a56d-452711d29be5"
      },
      "execution_count": null,
      "outputs": [
        {
          "output_type": "execute_result",
          "data": {
            "text/plain": [
              "3"
            ]
          },
          "metadata": {},
          "execution_count": 11
        }
      ]
    },
    {
      "cell_type": "code",
      "source": [
        "rides_his={\"rama\":300,\n",
        "           \"raja\":500}\n",
        "\n",
        "ride_amount=rides_his[\"rama\"]\n",
        "ride_amount*0.18"
      ],
      "metadata": {
        "colab": {
          "base_uri": "https://localhost:8080/"
        },
        "id": "DN6PEDtx-Rjq",
        "outputId": "3a76521b-9160-42a8-cb77-e52720eeb5c9"
      },
      "execution_count": null,
      "outputs": [
        {
          "output_type": "execute_result",
          "data": {
            "text/plain": [
              "54.0"
            ]
          },
          "metadata": {},
          "execution_count": 21
        }
      ]
    },
    {
      "cell_type": "code",
      "source": [
        "sum(list(rides_his.values()))/len(list(rides_his.values()))"
      ],
      "metadata": {
        "colab": {
          "base_uri": "https://localhost:8080/"
        },
        "id": "QtWKoybI-vgH",
        "outputId": "4d62311f-7321-460b-a79c-745fd81e0ee9"
      },
      "execution_count": null,
      "outputs": [
        {
          "output_type": "execute_result",
          "data": {
            "text/plain": [
              "400.0"
            ]
          },
          "metadata": {},
          "execution_count": 22
        }
      ]
    },
    {
      "cell_type": "code",
      "source": [
        "# Y =mx+c\n",
        "x_list=(1,2,3,4,5,6,7,8)\n",
        "m=0.1\n",
        "c=0.1\n",
        "y_list=list()"
      ],
      "metadata": {
        "id": "ffEaFa0hAfYr"
      },
      "execution_count": null,
      "outputs": []
    },
    {
      "cell_type": "code",
      "source": [
        "for i in x_list:\n",
        "  y =(m*i) + c\n",
        "  y=round(y,2)\n",
        " y_list.append(y)"
      ],
      "metadata": {
        "colab": {
          "base_uri": "https://localhost:8080/",
          "height": 141
        },
        "id": "2e4uT5aGBGAs",
        "outputId": "23f97d2f-feb5-4f91-eba7-adde5e21cd7e"
      },
      "execution_count": null,
      "outputs": [
        {
          "output_type": "error",
          "ename": "IndentationError",
          "evalue": "ignored",
          "traceback": [
            "\u001b[0;36m  File \u001b[0;32m\"<tokenize>\"\u001b[0;36m, line \u001b[0;32m4\u001b[0m\n\u001b[0;31m    y_list.append(y)\u001b[0m\n\u001b[0m    ^\u001b[0m\n\u001b[0;31mIndentationError\u001b[0m\u001b[0;31m:\u001b[0m unindent does not match any outer indentation level\n"
          ]
        }
      ]
    },
    {
      "cell_type": "code",
      "source": [],
      "metadata": {
        "id": "j4vb_i4zDi7w"
      },
      "execution_count": null,
      "outputs": []
    },
    {
      "cell_type": "code",
      "source": [
        "y_list"
      ],
      "metadata": {
        "colab": {
          "base_uri": "https://localhost:8080/"
        },
        "id": "DASnoK9CBneu",
        "outputId": "b960a457-5f02-470c-dedf-8125c775008a"
      },
      "execution_count": null,
      "outputs": [
        {
          "output_type": "execute_result",
          "data": {
            "text/plain": [
              "[]"
            ]
          },
          "metadata": {},
          "execution_count": 28
        }
      ]
    },
    {
      "cell_type": "code",
      "source": [
        "rides_his={\"rama\":300,\n",
        "           \"raja\":500,\n",
        "           \"ram\":800}\n",
        "for key,value in rides_his.items():\n",
        "  print(\"Customer Name is:\",key,\"   His last ride amount is: \", value)"
      ],
      "metadata": {
        "colab": {
          "base_uri": "https://localhost:8080/"
        },
        "id": "B47BKcxuCLQw",
        "outputId": "58b6686e-e914-47ca-cb3f-f3cf0555bc04"
      },
      "execution_count": null,
      "outputs": [
        {
          "output_type": "stream",
          "name": "stdout",
          "text": [
            "Customer Name is: rama    His last ride amount is:  300\n",
            "Customer Name is: raja    His last ride amount is:  500\n",
            "Customer Name is: ram    His last ride amount is:  800\n"
          ]
        }
      ]
    },
    {
      "cell_type": "code",
      "source": [
        "list(rides_his.values())\n",
        "sum([i*0.18 for i in list(rides_his.values())])"
      ],
      "metadata": {
        "colab": {
          "base_uri": "https://localhost:8080/"
        },
        "id": "QIy1hC8XDkE0",
        "outputId": "945175f0-953b-4a38-d360-a743782e57bd"
      },
      "execution_count": null,
      "outputs": [
        {
          "output_type": "execute_result",
          "data": {
            "text/plain": [
              "288.0"
            ]
          },
          "metadata": {},
          "execution_count": 46
        }
      ]
    },
    {
      "cell_type": "code",
      "source": [
        "[i*0.18 for i in list(rides_his.values())]"
      ],
      "metadata": {
        "colab": {
          "base_uri": "https://localhost:8080/"
        },
        "id": "TsPyiBkhDsqT",
        "outputId": "fea8ea96-610f-4bbe-bdc6-9098a7e8ed01"
      },
      "execution_count": null,
      "outputs": [
        {
          "output_type": "execute_result",
          "data": {
            "text/plain": [
              "[54.0, 90.0, 144.0]"
            ]
          },
          "metadata": {},
          "execution_count": 52
        }
      ]
    },
    {
      "cell_type": "code",
      "source": [],
      "metadata": {
        "id": "Jz3FQxa_F6r4"
      },
      "execution_count": null,
      "outputs": []
    },
    {
      "cell_type": "code",
      "source": [
        "sum([v*0.18 for k,v in list(rides_his.values())])"
      ],
      "metadata": {
        "colab": {
          "base_uri": "https://localhost:8080/",
          "height": 228
        },
        "id": "A_zKGyMXEOzn",
        "outputId": "88558549-6b27-490b-ac55-a6785d98efa3"
      },
      "execution_count": null,
      "outputs": [
        {
          "output_type": "error",
          "ename": "TypeError",
          "evalue": "ignored",
          "traceback": [
            "\u001b[0;31m---------------------------------------------------------------------------\u001b[0m",
            "\u001b[0;31mTypeError\u001b[0m                                 Traceback (most recent call last)",
            "\u001b[0;32m<ipython-input-53-08f6bed120a6>\u001b[0m in \u001b[0;36m<cell line: 1>\u001b[0;34m()\u001b[0m\n\u001b[0;32m----> 1\u001b[0;31m \u001b[0msum\u001b[0m\u001b[0;34m(\u001b[0m\u001b[0;34m[\u001b[0m\u001b[0mv\u001b[0m\u001b[0;34m*\u001b[0m\u001b[0;36m0.18\u001b[0m \u001b[0;32mfor\u001b[0m \u001b[0mk\u001b[0m\u001b[0;34m,\u001b[0m\u001b[0mv\u001b[0m \u001b[0;32min\u001b[0m \u001b[0mlist\u001b[0m\u001b[0;34m(\u001b[0m\u001b[0mrides_his\u001b[0m\u001b[0;34m.\u001b[0m\u001b[0mvalues\u001b[0m\u001b[0;34m(\u001b[0m\u001b[0;34m)\u001b[0m\u001b[0;34m)\u001b[0m\u001b[0;34m]\u001b[0m\u001b[0;34m)\u001b[0m\u001b[0;34m\u001b[0m\u001b[0;34m\u001b[0m\u001b[0m\n\u001b[0m",
            "\u001b[0;32m<ipython-input-53-08f6bed120a6>\u001b[0m in \u001b[0;36m<listcomp>\u001b[0;34m(.0)\u001b[0m\n\u001b[0;32m----> 1\u001b[0;31m \u001b[0msum\u001b[0m\u001b[0;34m(\u001b[0m\u001b[0;34m[\u001b[0m\u001b[0mv\u001b[0m\u001b[0;34m*\u001b[0m\u001b[0;36m0.18\u001b[0m \u001b[0;32mfor\u001b[0m \u001b[0mk\u001b[0m\u001b[0;34m,\u001b[0m\u001b[0mv\u001b[0m \u001b[0;32min\u001b[0m \u001b[0mlist\u001b[0m\u001b[0;34m(\u001b[0m\u001b[0mrides_his\u001b[0m\u001b[0;34m.\u001b[0m\u001b[0mvalues\u001b[0m\u001b[0;34m(\u001b[0m\u001b[0;34m)\u001b[0m\u001b[0;34m)\u001b[0m\u001b[0;34m]\u001b[0m\u001b[0;34m)\u001b[0m\u001b[0;34m\u001b[0m\u001b[0;34m\u001b[0m\u001b[0m\n\u001b[0m",
            "\u001b[0;31mTypeError\u001b[0m: cannot unpack non-iterable int object"
          ]
        }
      ]
    },
    {
      "cell_type": "code",
      "source": [
        "if 2>3:\n",
        "  print(\"Correct\")\n",
        "else\n",
        "  print(\"Wrong\")"
      ],
      "metadata": {
        "colab": {
          "base_uri": "https://localhost:8080/",
          "height": 141
        },
        "id": "xyACYbq9F7xw",
        "outputId": "b98a9d43-a7c6-4436-b681-1c8f6a67c636"
      },
      "execution_count": null,
      "outputs": [
        {
          "output_type": "error",
          "ename": "SyntaxError",
          "evalue": "ignored",
          "traceback": [
            "\u001b[0;36m  File \u001b[0;32m\"<ipython-input-60-f7a98bccc601>\"\u001b[0;36m, line \u001b[0;32m3\u001b[0m\n\u001b[0;31m    else\u001b[0m\n\u001b[0m         ^\u001b[0m\n\u001b[0;31mSyntaxError\u001b[0m\u001b[0;31m:\u001b[0m expected ':'\n"
          ]
        }
      ]
    },
    {
      "cell_type": "code",
      "source": [
        "if 2>3 and 2<3:\n",
        "  print(\"1st statement is correct\")\n",
        "elif 2==3:\n",
        "  print(\"2nd Statement is corrcet\")\n",
        "else:\n",
        "  print(\"no statement is correct\")"
      ],
      "metadata": {
        "colab": {
          "base_uri": "https://localhost:8080/"
        },
        "id": "PYpm4AguGNGH",
        "outputId": "6908c8b9-888c-42b3-f847-4d92bdbde3fa"
      },
      "execution_count": null,
      "outputs": [
        {
          "output_type": "stream",
          "name": "stdout",
          "text": [
            "no statement is correct\n"
          ]
        }
      ]
    },
    {
      "cell_type": "code",
      "source": [
        "my_list=[1,2,3,4,5,6,6,6]\n",
        "my_tuble=(1,2,3,4,5,6,6,6)\n",
        "my_set={1,2,3,4,5,6,6,6}\n",
        "my_list"
      ],
      "metadata": {
        "colab": {
          "base_uri": "https://localhost:8080/"
        },
        "id": "OgA-0r1RHAme",
        "outputId": "2cba9f00-ae37-4642-e3e7-79a6e646e7d2"
      },
      "execution_count": null,
      "outputs": [
        {
          "output_type": "execute_result",
          "data": {
            "text/plain": [
              "[1, 2, 3, 4, 5, 6, 6, 6]"
            ]
          },
          "metadata": {},
          "execution_count": 66
        }
      ]
    },
    {
      "cell_type": "code",
      "source": [
        "for num in range(1, 6):\n",
        "    print(num)"
      ],
      "metadata": {
        "colab": {
          "base_uri": "https://localhost:8080/"
        },
        "id": "VRNFIu-CqcdW",
        "outputId": "c528dffb-a8d6-4658-a8c4-35b7d7699bff"
      },
      "execution_count": null,
      "outputs": [
        {
          "output_type": "stream",
          "name": "stdout",
          "text": [
            "1\n",
            "2\n",
            "3\n",
            "4\n",
            "5\n"
          ]
        }
      ]
    },
    {
      "cell_type": "code",
      "source": [
        "def get_even_numbers(my_numbers):\n",
        "  even_numbers =[]\n",
        "  #Logic\n",
        "  for i in my_numbers:\n",
        "    if i%2==0:\n",
        "      even_numbers.append(i)\n",
        "  return even_numbers"
      ],
      "metadata": {
        "id": "7gOdm-tDqj1X"
      },
      "execution_count": null,
      "outputs": []
    },
    {
      "cell_type": "code",
      "source": [
        "given_numbers =[1,2,3,4,5,6,7,8,9,10,11,12]\n",
        "get_even_numbers(given_numbers)"
      ],
      "metadata": {
        "colab": {
          "base_uri": "https://localhost:8080/"
        },
        "id": "mWzC1qzvrPGD",
        "outputId": "306d732c-8a2d-4e69-9a08-4a0a3c8ce1f4"
      },
      "execution_count": null,
      "outputs": [
        {
          "output_type": "execute_result",
          "data": {
            "text/plain": [
              "[2, 4, 6, 8, 10, 12]"
            ]
          },
          "metadata": {},
          "execution_count": 6
        }
      ]
    },
    {
      "cell_type": "code",
      "source": [
        "print(get_even_numbers([1,2,3,4]))\n",
        "print(get_even_numbers([11,12,13,14]))"
      ],
      "metadata": {
        "colab": {
          "base_uri": "https://localhost:8080/"
        },
        "id": "eeYbL05OrVI9",
        "outputId": "10381c85-7687-4687-934b-fd5537b6589c"
      },
      "execution_count": null,
      "outputs": [
        {
          "output_type": "stream",
          "name": "stdout",
          "text": [
            "[2, 4]\n",
            "[12, 14]\n"
          ]
        }
      ]
    },
    {
      "cell_type": "code",
      "source": [
        "#lambda_function\n",
        "square = lambda x: x*x\n",
        "\n",
        "square(3)"
      ],
      "metadata": {
        "colab": {
          "base_uri": "https://localhost:8080/"
        },
        "id": "negRp9ojsLcj",
        "outputId": "400aba23-8fa7-4c8b-8308-e2a675bf9e39"
      },
      "execution_count": null,
      "outputs": [
        {
          "output_type": "execute_result",
          "data": {
            "text/plain": [
              "9"
            ]
          },
          "metadata": {},
          "execution_count": 12
        }
      ]
    },
    {
      "cell_type": "code",
      "source": [
        "def square(x):\n",
        "  output = x*x\n",
        "  return output\n",
        "  square(3)"
      ],
      "metadata": {
        "id": "Qb0uVkaksyt5"
      },
      "execution_count": null,
      "outputs": []
    },
    {
      "cell_type": "code",
      "source": [
        "#class & object oriented programming language\n",
        "#CircleClass\n",
        "class Circle ():\n",
        "\n",
        "  def _init_(self,radius):\n",
        "    self.r=radius\n",
        "\n",
        "  def area (self):\n",
        "    self.area= 3.14*self.r * self.r\n",
        "    return self.a\n",
        "\n",
        "  def circumference(self):\n",
        "      self.circumf= 2*3.14*self.r\n",
        "      return self.circumf"
      ],
      "metadata": {
        "id": "s2syGbGytJMG"
      },
      "execution_count": null,
      "outputs": []
    },
    {
      "cell_type": "code",
      "source": [
        "#class & object oriented programming language\n",
        "#CircleClass\n",
        "class Circle ():\n",
        "\n",
        "  def _init_(self,radius):\n",
        "    self.r=radius\n",
        "    self.area()\n",
        "    self.circumference()\n",
        "\n",
        "  def area (self):\n",
        "    self.area= 3.14*self.r * self.r\n",
        "    return self.a\n",
        "\n",
        "  def circumference(self):\n",
        "      self.circumf= 2*3.14*self.r"
      ],
      "metadata": {
        "id": "CPABSb-PvcL4"
      },
      "execution_count": null,
      "outputs": []
    },
    {
      "cell_type": "code",
      "source": [
        "c1 = Circle(3)"
      ],
      "metadata": {
        "id": "ADxtFS8quBac"
      },
      "execution_count": null,
      "outputs": []
    },
    {
      "cell_type": "code",
      "source": [
        "c1.circumference()"
      ],
      "metadata": {
        "id": "jU2xAfASvSzM"
      },
      "execution_count": null,
      "outputs": []
    },
    {
      "cell_type": "code",
      "source": [
        "#class object oriented programming\n",
        "class Circle():\n",
        "\n",
        "  def __init__(self,radius):\n",
        "      self.r=radius\n",
        "      self.area()\n",
        "      self.circumference()\n",
        "\n",
        "  def area(self):\n",
        "    self.a = 3.14 * self.r * self.r\n",
        "\n",
        "  def circumference(self):\n",
        "    self.circmf = 2* 3.14 * self.r"
      ],
      "metadata": {
        "id": "eMmCyF39v2ss"
      },
      "execution_count": null,
      "outputs": []
    },
    {
      "cell_type": "code",
      "source": [
        "c1=Circle(10)"
      ],
      "metadata": {
        "id": "tD-MvMgxv4x4"
      },
      "execution_count": null,
      "outputs": []
    },
    {
      "cell_type": "code",
      "source": [
        "c1.a, c1.circmf"
      ],
      "metadata": {
        "colab": {
          "base_uri": "https://localhost:8080/"
        },
        "id": "9Gnrj9xtz2Q9",
        "outputId": "067b5af1-d358-4eca-8ffa-1a29aeac30b3"
      },
      "execution_count": null,
      "outputs": [
        {
          "output_type": "execute_result",
          "data": {
            "text/plain": [
              "(314.0, 62.800000000000004)"
            ]
          },
          "metadata": {},
          "execution_count": 7
        }
      ]
    },
    {
      "cell_type": "code",
      "source": [
        "#class object oriented programming\n",
        "class Square():\n",
        "\n",
        "  def __init__(self,radius):\n",
        "      self.r=radius\n",
        "      self.area()\n",
        "      self.circumference()\n",
        "\n",
        "  def area(self):\n",
        "    self.a = 3.14 * self.r * self.r\n",
        "\n",
        "  def circumference(self):\n",
        "    self.circmf = 2* 3.14 * self.r"
      ],
      "metadata": {
        "id": "1Kux0tWb0Ma2"
      },
      "execution_count": null,
      "outputs": []
    },
    {
      "cell_type": "code",
      "source": [
        "s1=Square(4)"
      ],
      "metadata": {
        "id": "HKiRRvzI0OLA"
      },
      "execution_count": null,
      "outputs": []
    },
    {
      "cell_type": "code",
      "source": [
        "s1.a, s1.circmf"
      ],
      "metadata": {
        "colab": {
          "base_uri": "https://localhost:8080/"
        },
        "id": "6njXG4NX0UfC",
        "outputId": "172c3ca5-2ad2-4ff8-ae54-5782908a26d8"
      },
      "execution_count": null,
      "outputs": [
        {
          "output_type": "execute_result",
          "data": {
            "text/plain": [
              "(50.24, 25.12)"
            ]
          },
          "metadata": {},
          "execution_count": 13
        }
      ]
    },
    {
      "cell_type": "code",
      "source": [
        "#List can be change\n",
        "\n",
        "list = [0, 1, 2, 3]\n",
        "list[0] = 4\n",
        "print(list)"
      ],
      "metadata": {
        "colab": {
          "base_uri": "https://localhost:8080/"
        },
        "id": "4mbVJGg01YFf",
        "outputId": "e38dc459-294e-4f48-cd3c-3527af90dd82"
      },
      "execution_count": null,
      "outputs": [
        {
          "output_type": "stream",
          "name": "stdout",
          "text": [
            "[4, 1, 2, 3]\n"
          ]
        }
      ]
    },
    {
      "cell_type": "code",
      "source": [
        "#Tuble can't be change\n",
        "#will receive an error\n",
        "list = (0, 1, 2, 3)\n",
        "list[0] = 4\n",
        "print(list)"
      ],
      "metadata": {
        "colab": {
          "base_uri": "https://localhost:8080/",
          "height": 228
        },
        "id": "sxuiPmog1qHy",
        "outputId": "81be69ea-a071-44ea-c4d3-15ba30c4d945"
      },
      "execution_count": null,
      "outputs": [
        {
          "output_type": "error",
          "ename": "TypeError",
          "evalue": "ignored",
          "traceback": [
            "\u001b[0;31m---------------------------------------------------------------------------\u001b[0m",
            "\u001b[0;31mTypeError\u001b[0m                                 Traceback (most recent call last)",
            "\u001b[0;32m<ipython-input-16-5dfbdffeed77>\u001b[0m in \u001b[0;36m<cell line: 4>\u001b[0;34m()\u001b[0m\n\u001b[1;32m      2\u001b[0m \u001b[0;34m\u001b[0m\u001b[0m\n\u001b[1;32m      3\u001b[0m \u001b[0mlist\u001b[0m \u001b[0;34m=\u001b[0m \u001b[0;34m(\u001b[0m\u001b[0;36m0\u001b[0m\u001b[0;34m,\u001b[0m \u001b[0;36m1\u001b[0m\u001b[0;34m,\u001b[0m \u001b[0;36m2\u001b[0m\u001b[0;34m,\u001b[0m \u001b[0;36m3\u001b[0m\u001b[0;34m)\u001b[0m\u001b[0;34m\u001b[0m\u001b[0;34m\u001b[0m\u001b[0m\n\u001b[0;32m----> 4\u001b[0;31m \u001b[0mlist\u001b[0m\u001b[0;34m[\u001b[0m\u001b[0;36m0\u001b[0m\u001b[0;34m]\u001b[0m \u001b[0;34m=\u001b[0m \u001b[0;36m4\u001b[0m\u001b[0;34m\u001b[0m\u001b[0;34m\u001b[0m\u001b[0m\n\u001b[0m\u001b[1;32m      5\u001b[0m \u001b[0mprint\u001b[0m\u001b[0;34m(\u001b[0m\u001b[0mlist\u001b[0m\u001b[0;34m)\u001b[0m\u001b[0;34m\u001b[0m\u001b[0;34m\u001b[0m\u001b[0m\n",
            "\u001b[0;31mTypeError\u001b[0m: 'tuple' object does not support item assignment"
          ]
        }
      ]
    },
    {
      "cell_type": "code",
      "source": [
        "#List will be denoted with []\n",
        "#Tuble will be denoted with ()\n",
        "#Dict will be denoted with {key:value}\n",
        "#set defined as {}"
      ],
      "metadata": {
        "id": "HFgm2oQQ12p2"
      },
      "execution_count": null,
      "outputs": []
    }
  ]
}